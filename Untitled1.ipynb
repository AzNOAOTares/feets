{
 "cells": [
  {
   "cell_type": "code",
   "execution_count": 8,
   "metadata": {},
   "outputs": [
    {
     "data": {
      "text/plain": [
       "1.0016662310392956"
      ]
     },
     "execution_count": 8,
     "metadata": {},
     "output_type": "execute_result"
    }
   ],
   "source": [
    "import numpy as np\n",
    "\n",
    "from astropy.stats import lombscargle\n",
    "\n",
    "# the code of statistics.py of lombscargle \n",
    "# of your astropy branch\n",
    "from feets.libs import ls_fap \n",
    "\n",
    "# noisy data\n",
    "rand = np.random.RandomState(42)\n",
    "t = 100 * rand.rand(100)\n",
    "y = np.sin(2 * np.pi * t) + rand.randn(100)\n",
    "\n",
    "model = lombscargle.LombScargle(t, y)\n",
    "frequency, power = model.autopower()\n",
    "fmax = np.argmax(power)\n",
    "\n",
    "frequency[fmax]"
   ]
  },
  {
   "cell_type": "code",
   "execution_count": 14,
   "metadata": {},
   "outputs": [
    {
     "data": {
      "text/plain": [
       "5.3677733755654706e-08"
      ]
     },
     "execution_count": 14,
     "metadata": {},
     "output_type": "execute_result"
    }
   ],
   "source": [
    "ls_fap.pdf_single(power.max(), len(t), \"standard\")"
   ]
  },
  {
   "cell_type": "code",
   "execution_count": 27,
   "metadata": {},
   "outputs": [
    {
     "name": "stdout",
     "output_type": "stream",
     "text": [
      "0.352180919338\n",
      "0.999999999283\n"
     ]
    },
    {
     "data": {
      "text/plain": [
       "3.4547025554165778e-05"
      ]
     },
     "execution_count": 27,
     "metadata": {},
     "output_type": "execute_result"
    }
   ],
   "source": [
    "# i asume dy is error of the magnitude. So i added an small number\n",
    "# because with 0 te result is nan\n",
    "eps = np.finfo(float).eps\n",
    "\n",
    "\n",
    "ls_fap.false_alarm_probability(power.max(), fmax, t, y, dy=eps, method=\"simple\", normalization=\"standard\")"
   ]
  },
  {
   "cell_type": "code",
   "execution_count": null,
   "metadata": {
    "collapsed": true
   },
   "outputs": [],
   "source": [
    "ls_fap.false_alarm_probability()"
   ]
  }
 ],
 "metadata": {
  "kernelspec": {
   "display_name": "Python 2",
   "language": "python",
   "name": "python2"
  },
  "language_info": {
   "codemirror_mode": {
    "name": "ipython",
    "version": 2
   },
   "file_extension": ".py",
   "mimetype": "text/x-python",
   "name": "python",
   "nbconvert_exporter": "python",
   "pygments_lexer": "ipython2",
   "version": "2.7.12"
  }
 },
 "nbformat": 4,
 "nbformat_minor": 2
}
