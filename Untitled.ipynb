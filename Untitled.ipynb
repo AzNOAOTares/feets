{
 "cells": [
  {
   "cell_type": "code",
   "execution_count": 1,
   "metadata": {},
   "outputs": [
    {
     "name": "stderr",
     "output_type": "stream",
     "text": [
      "/home/juan/proyectos/carpyncho_FATS/local/lib/python2.7/site-packages/statsmodels/compat/pandas.py:56: FutureWarning: The pandas.core.datetools module is deprecated and will be removed in a future version. Please use the pandas.tseries module instead.\n",
      "  from pandas.core import datetools\n"
     ]
    }
   ],
   "source": [
    "import os\n",
    "import numpy as np\n",
    "\n",
    "import feets\n",
    "from feets.libs import ls_fap, lomb\n",
    "\n",
    "%matplotlib inline\n",
    "import matplotlib.pyplot as plt"
   ]
  },
  {
   "cell_type": "code",
   "execution_count": 2,
   "metadata": {},
   "outputs": [
    {
     "data": {
      "text/plain": [
       "(array([-6.081, -6.041, -6.046, ..., -6.009, -5.985, -5.997]),\n",
       " array([ 48823.477419,  48823.487014,  48823.496759, ...,  51531.401331,\n",
       "         51541.344537,  51546.325197]))"
      ]
     },
     "execution_count": 2,
     "metadata": {},
     "output_type": "execute_result"
    }
   ],
   "source": [
    "fs = feets.FeatureSpace()\n",
    "\n",
    "data_path = os.path.join(os.path.abspath(os.path.dirname(feets.tests.__file__)), \"data\")\n",
    "lc_path = os.path.join(data_path, \"lc_1.3444.614.B_R.npz\")\n",
    "\n",
    "# recreate the lightcurve\n",
    "with np.load(lc_path) as npz:\n",
    "    magnitude = npz['mag']\n",
    "    time = npz['time']\n",
    "    \n",
    "magnitude, time"
   ]
  },
  {
   "cell_type": "code",
   "execution_count": 3,
   "metadata": {
    "collapsed": true
   },
   "outputs": [],
   "source": [
    "# from astroML.datasets import fetch_LINEAR_sample\n",
    "# LINEAR_data = fetch_LINEAR_sample()\n",
    "# star_id = 10040133\n",
    "# time, magnitude, dmag = LINEAR_data.get_light_curve(star_id).T"
   ]
  },
  {
   "cell_type": "code",
   "execution_count": 4,
   "metadata": {
    "collapsed": true
   },
   "outputs": [],
   "source": [
    "def plot_star(time, magnitude, period):\n",
    "    t, mag= time, magnitude\n",
    "    dmag = np.zeros(time.shape)\n",
    "    \n",
    "    # Compute phases of the obsevations\n",
    "    phase = (t / period) % 1\n",
    "\n",
    "    # Compute best-fit RR Lyrae template\n",
    "    from gatspy.periodic import RRLyraeTemplateModeler\n",
    "    model = RRLyraeTemplateModeler('r').fit(t, mag, dmag)\n",
    "    phase_fit = np.linspace(0, 1, 1000)\n",
    "    mag_fit = model.predict(period * phase_fit, period=period)\n",
    "\n",
    "    # Plot the phased data & model\n",
    "    fig, ax = plt.subplots()\n",
    "    ax.errorbar(phase, mag, dmag, fmt='.k', ecolor='gray', alpha=0.5)\n",
    "    ax.plot(phase_fit, mag_fit, '-k')\n",
    "    ax.set(xlabel='Phase', ylabel='magitude')\n",
    "    ax.invert_yaxis();"
   ]
  },
  {
   "cell_type": "markdown",
   "metadata": {},
   "source": [
    "## FATS LS"
   ]
  },
  {
   "cell_type": "code",
   "execution_count": 5,
   "metadata": {},
   "outputs": [
    {
     "name": "stdout",
     "output_type": "stream",
     "text": [
      "CPU times: user 1.58 s, sys: 72 ms, total: 1.66 s\n",
      "Wall time: 1.65 s\n"
     ]
    },
    {
     "data": {
      "text/plain": [
       "{u'PeriodLS': 0.93697445905023935,\n",
       " u'Period_fit': 3.1076457440343504e-113,\n",
       " u'Psi_CS': 0.19179114069585729,\n",
       " u'Psi_eta': 0.58910268294132195}"
      ]
     },
     "execution_count": 5,
     "metadata": {},
     "output_type": "execute_result"
    }
   ],
   "source": [
    "from feets.extractors.ext_lomb_scargle_orig import LombScargle as FATSLombScargle\n",
    "lscargle = FATSLombScargle(fs)\n",
    "%time fats_ls = lscargle.fit(magnitude, time, 6.)\n",
    "fats_ls"
   ]
  },
  {
   "cell_type": "code",
   "execution_count": 6,
   "metadata": {},
   "outputs": [
    {
     "name": "stdout",
     "output_type": "stream",
     "text": [
      "CPU times: user 3.88 s, sys: 212 ms, total: 4.09 s\n",
      "Wall time: 4.09 s\n"
     ]
    },
    {
     "data": {
      "text/plain": [
       "{u'Freq1_harmonics_amplitude_0': 0.13437970328353993,\n",
       " u'Freq1_harmonics_amplitude_1': 0.081782104118858376,\n",
       " u'Freq1_harmonics_amplitude_2': 0.050870593434863394,\n",
       " u'Freq1_harmonics_amplitude_3': 0.026198886228252748,\n",
       " u'Freq1_harmonics_rel_phase_0': 0.0,\n",
       " u'Freq1_harmonics_rel_phase_1': 0.3589872505549615,\n",
       " u'Freq1_harmonics_rel_phase_2': 0.78373753802371693,\n",
       " u'Freq1_harmonics_rel_phase_3': 1.3148411065542653,\n",
       " u'Freq2_harmonics_amplitude_0': 0.018352699400037011,\n",
       " u'Freq2_harmonics_amplitude_1': 0.0034160005551770825,\n",
       " u'Freq2_harmonics_amplitude_2': 0.0066381176236686131,\n",
       " u'Freq2_harmonics_amplitude_3': 0.0046673565716580726,\n",
       " u'Freq2_harmonics_rel_phase_0': 0.0,\n",
       " u'Freq2_harmonics_rel_phase_1': 3.0847901594538767,\n",
       " u'Freq2_harmonics_rel_phase_2': 0.46900853382169272,\n",
       " u'Freq2_harmonics_rel_phase_3': 1.7759627063676815,\n",
       " u'Freq3_harmonics_amplitude_0': 0.016548089932575488,\n",
       " u'Freq3_harmonics_amplitude_1': 0.0018836266253220439,\n",
       " u'Freq3_harmonics_amplitude_2': 0.0066137737410486199,\n",
       " u'Freq3_harmonics_amplitude_3': 0.0037519588879090077,\n",
       " u'Freq3_harmonics_rel_phase_0': 0.0,\n",
       " u'Freq3_harmonics_rel_phase_1': 0.6203278737406015,\n",
       " u'Freq3_harmonics_rel_phase_2': -0.12834156047674433,\n",
       " u'Freq3_harmonics_rel_phase_3': -1.2891601547254568}"
      ]
     },
     "execution_count": 6,
     "metadata": {},
     "output_type": "execute_result"
    }
   ],
   "source": [
    "from feets.extractors.ext_fourier_components_orig import FourierComponents as FATSFourierComponents\n",
    "fc = FATSFourierComponents(fs)\n",
    "%time fats_fc = fc.fit(magnitude, time, 6.)\n",
    "fats_fc"
   ]
  },
  {
   "cell_type": "markdown",
   "metadata": {},
   "source": [
    "## Astropy"
   ]
  },
  {
   "cell_type": "code",
   "execution_count": 7,
   "metadata": {},
   "outputs": [
    {
     "name": "stdout",
     "output_type": "stream",
     "text": [
      "CPU times: user 616 ms, sys: 20 ms, total: 636 ms\n",
      "Wall time: 633 ms\n"
     ]
    },
    {
     "data": {
      "text/plain": [
       "{u'PeriodLS': 0.93694759085825552,\n",
       " u'Period_fit': 1,\n",
       " u'Psi_CS': 0.19014757424308459,\n",
       " u'Psi_eta': 0.66944304684644684}"
      ]
     },
     "execution_count": 7,
     "metadata": {},
     "output_type": "execute_result"
    }
   ],
   "source": [
    "from feets.extractors.ext_lomb_scargle import LombScargle as FeetsLombScargle\n",
    "lscargle = FeetsLombScargle(fs)\n",
    "fasper_kwds = {\"autopower_kwds\": {\"samples_per_peak\": 6., \"nyquist_factor\": 100}}\n",
    "%time feets_ls = lscargle.fit(magnitude, time, lscargle_kwds=fasper_kwds)\n",
    "feets_ls"
   ]
  },
  {
   "cell_type": "code",
   "execution_count": 29,
   "metadata": {},
   "outputs": [
    {
     "name": "stdout",
     "output_type": "stream",
     "text": [
      "CPU times: user 1.41 s, sys: 56 ms, total: 1.46 s\n",
      "Wall time: 1.46 s\n"
     ]
    },
    {
     "data": {
      "text/plain": [
       "{u'Freq1_harmonics_amplitude_0': 0.13343381203485169,\n",
       " u'Freq1_harmonics_amplitude_1': 0.078404211897825205,\n",
       " u'Freq1_harmonics_amplitude_2': 0.050566009236220351,\n",
       " u'Freq1_harmonics_amplitude_3': 0.026084952269435833,\n",
       " u'Freq1_harmonics_rel_phase_0': 0.0,\n",
       " u'Freq1_harmonics_rel_phase_1': 0.15681150010700362,\n",
       " u'Freq1_harmonics_rel_phase_2': 0.40575216196173691,\n",
       " u'Freq1_harmonics_rel_phase_3': 0.66531282827202887,\n",
       " u'Freq2_harmonics_amplitude_0': 0.016620167734147397,\n",
       " u'Freq2_harmonics_amplitude_1': 0.0033078430295522005,\n",
       " u'Freq2_harmonics_amplitude_2': 0.0031285480277133165,\n",
       " u'Freq2_harmonics_amplitude_3': 0.0037513261381000875,\n",
       " u'Freq2_harmonics_rel_phase_0': 0.0,\n",
       " u'Freq2_harmonics_rel_phase_1': 1.6636661340599668,\n",
       " u'Freq2_harmonics_rel_phase_2': 0.76712330033137777,\n",
       " u'Freq2_harmonics_rel_phase_3': 0.63634805297099672,\n",
       " u'Freq3_harmonics_amplitude_0': 0.015784199676424832,\n",
       " u'Freq3_harmonics_amplitude_1': 0.0024911941274430413,\n",
       " u'Freq3_harmonics_amplitude_2': 0.0041985558013307306,\n",
       " u'Freq3_harmonics_amplitude_3': 0.0075299100945585172,\n",
       " u'Freq3_harmonics_rel_phase_0': 0.0,\n",
       " u'Freq3_harmonics_rel_phase_1': 0.36258980526191553,\n",
       " u'Freq3_harmonics_rel_phase_2': -0.40825874565281195,\n",
       " u'Freq3_harmonics_rel_phase_3': -2.0682504859831154}"
      ]
     },
     "execution_count": 29,
     "metadata": {},
     "output_type": "execute_result"
    }
   ],
   "source": [
    "from feets.extractors.ext_fourier_components import FourierComponents as FeetsFourierComponents\n",
    "fc = FeetsFourierComponents(fs)\n",
    "fasper_kwds = {\"autopower_kwds\": {\"samples_per_peak\": 6., \"nyquist_factor\": 100}}\n",
    "%time feets_fc = fc.fit(magnitude, time, lscargle_kwds=fasper_kwds)\n",
    "feets_fc"
   ]
  },
  {
   "cell_type": "markdown",
   "metadata": {},
   "source": [
    "# Comparison FATS feets Fourier "
   ]
  },
  {
   "cell_type": "code",
   "execution_count": 33,
   "metadata": {},
   "outputs": [
    {
     "data": {
      "text/plain": [
       "0.37798537606198002"
      ]
     },
     "execution_count": 33,
     "metadata": {},
     "output_type": "execute_result"
    }
   ],
   "source": [
    "difs = [np.abs(fats_fc[k] - feets_fc[k]) for k in feets_fc.keys() if \"phase\" in k and \"_\" in k]\n",
    "np.max(difs)"
   ]
  },
  {
   "cell_type": "code",
   "execution_count": 31,
   "metadata": {},
   "outputs": [
    {
     "data": {
      "text/plain": [
       "1.4211240253939099"
      ]
     },
     "execution_count": 31,
     "metadata": {},
     "output_type": "execute_result"
    }
   ],
   "source": []
  },
  {
   "cell_type": "code",
   "execution_count": null,
   "metadata": {
    "collapsed": true
   },
   "outputs": [],
   "source": []
  }
 ],
 "metadata": {
  "kernelspec": {
   "display_name": "Python 2",
   "language": "python",
   "name": "python2"
  },
  "language_info": {
   "codemirror_mode": {
    "name": "ipython",
    "version": 2
   },
   "file_extension": ".py",
   "mimetype": "text/x-python",
   "name": "python",
   "nbconvert_exporter": "python",
   "pygments_lexer": "ipython2",
   "version": "2.7.12"
  }
 },
 "nbformat": 4,
 "nbformat_minor": 2
}
