{
 "cells": [
  {
   "cell_type": "code",
   "execution_count": 2,
   "metadata": {},
   "outputs": [],
   "source": [
    "import os\n",
    "import numpy as np\n",
    "\n",
    "import feets\n",
    "from feets.libs import lomb\n",
    "\n",
    "import gatspy\n",
    "\n",
    "%matplotlib inline\n",
    "import matplotlib.pyplot as plt"
   ]
  },
  {
   "cell_type": "code",
   "execution_count": 3,
   "metadata": {},
   "outputs": [
    {
     "data": {
      "text/plain": [
       "(array([-6.081, -6.041, -6.046, ..., -6.009, -5.985, -5.997]),\n",
       " array([ 48823.477419,  48823.487014,  48823.496759, ...,  51531.401331,\n",
       "         51541.344537,  51546.325197]))"
      ]
     },
     "execution_count": 3,
     "metadata": {},
     "output_type": "execute_result"
    }
   ],
   "source": [
    "data_path = os.path.join(os.path.abspath(os.path.dirname(feets.tests.__file__)), \"data\")\n",
    "lc_path = os.path.join(data_path, \"lc_1.3444.614.B_R.npz\")\n",
    "\n",
    "# recreate the lightcurve\n",
    "with np.load(lc_path) as npz:\n",
    "    magnitude = npz['mag']\n",
    "    time = npz['time']\n",
    "    \n",
    "magnitude, time"
   ]
  },
  {
   "cell_type": "code",
   "execution_count": 3,
   "metadata": {
    "collapsed": true
   },
   "outputs": [],
   "source": [
    "# from astroML.datasets import fetch_LINEAR_sample\n",
    "# LINEAR_data = fetch_LINEAR_sample()\n",
    "# star_id = 10040133\n",
    "# time, magnitude, dmag = LINEAR_data.get_light_curve(star_id).T"
   ]
  },
  {
   "cell_type": "code",
   "execution_count": 5,
   "metadata": {
    "collapsed": true
   },
   "outputs": [],
   "source": [
    "def plot_star(time, magnitude, period):\n",
    "    t, mag= time, magnitude\n",
    "    dmag = np.zeros(time.shape)\n",
    "    \n",
    "    # Compute phases of the obsevations\n",
    "    phase = (t / period) % 1\n",
    "\n",
    "    # Compute best-fit RR Lyrae template\n",
    "    from gatspy.periodic import RRLyraeTemplateModeler\n",
    "    model = RRLyraeTemplateModeler('r').fit(t, mag, dmag)\n",
    "    phase_fit = np.linspace(0, 1, 1000)\n",
    "    mag_fit = model.predict(period * phase_fit, period=period)\n",
    "\n",
    "    # Plot the phased data & model\n",
    "    fig, ax = plt.subplots()\n",
    "    ax.errorbar(phase, mag, dmag, fmt='.k', ecolor='gray', alpha=0.5)\n",
    "    ax.plot(phase_fit, mag_fit, '-k')\n",
    "    ax.set(xlabel='Phase', ylabel='magitude')\n",
    "    ax.invert_yaxis();"
   ]
  },
  {
   "cell_type": "markdown",
   "metadata": {},
   "source": [
    "## FATS LS"
   ]
  },
  {
   "cell_type": "code",
   "execution_count": 6,
   "metadata": {
    "collapsed": true
   },
   "outputs": [],
   "source": [
    "fs = feets.FeatureSpace()\n",
    "LombScargle = feets.extractor_of(\"PeriodLS\")"
   ]
  },
  {
   "cell_type": "code",
   "execution_count": 7,
   "metadata": {},
   "outputs": [
    {
     "data": {
      "text/plain": [
       "LombScargle(ofac=6.0)"
      ]
     },
     "execution_count": 7,
     "metadata": {},
     "output_type": "execute_result"
    }
   ],
   "source": [
    "lscargle = LombScargle(fs)\n",
    "lscargle"
   ]
  },
  {
   "cell_type": "code",
   "execution_count": 8,
   "metadata": {},
   "outputs": [
    {
     "name": "stdout",
     "output_type": "stream",
     "text": [
      "1 loop, best of 3: 1.58 s per loop\n"
     ]
    }
   ],
   "source": [
    "%%timeit\n",
    "lscargle.fit(magnitude, time, 6.)"
   ]
  },
  {
   "cell_type": "code",
   "execution_count": 9,
   "metadata": {},
   "outputs": [
    {
     "name": "stdout",
     "output_type": "stream",
     "text": [
      "CPU times: user 1.53 s, sys: 75.6 ms, total: 1.6 s\n",
      "Wall time: 1.61 s\n"
     ]
    }
   ],
   "source": [
    "%time fx, fy, nout, jmax, prob = lomb.fasper(time, magnitude, 6., 100.)"
   ]
  },
  {
   "cell_type": "code",
   "execution_count": 11,
   "metadata": {},
   "outputs": [
    {
     "name": "stdout",
     "output_type": "stream",
     "text": [
      "0.93697445905\n"
     ]
    },
    {
     "data": {
      "image/png": "[encoded data removed]",
      "text/plain": [
       "<matplotlib.figure.Figure at 0x7f2869daac90>"
      ]
     },
     "metadata": {},
     "output_type": "display_data"
    }
   ],
   "source": [
    "fats_period = 1/fx[np.argmax(fy)]\n",
    "plt.plot(1/fx, fy)\n",
    "plt.axvline(fats_period, color=\"r\")\n",
    "print fats_period"
   ]
  },
  {
   "cell_type": "markdown",
   "metadata": {},
   "source": [
    "## Gatspy"
   ]
  },
  {
   "cell_type": "code",
   "execution_count": 12,
   "metadata": {
    "collapsed": true
   },
   "outputs": [],
   "source": [
    "from gatspy.periodic import LombScargleFast, LombScargle"
   ]
  },
  {
   "cell_type": "code",
   "execution_count": 11,
   "metadata": {
    "collapsed": true
   },
   "outputs": [],
   "source": [
    "# Extractor = feets.Extractor\n",
    "\n",
    "# class GatspyLombScargle(Extractor):\n",
    "\n",
    "#     data = ['magnitude', 'time', \"error\"]\n",
    "#     features = [\"PeriodLS\", \"Period_fit\", \"Psi_CS\", \"Psi_eta\"]\n",
    "#     params = {\"ofac\": 6., \"nyquist_factor\": 100}\n",
    "\n",
    "#     def _compute_ls(self, magnitude, time, ofac):\n",
    "#         fx, fy, nout, jmax, prob = lomb.fasper(time, magnitude, ofac, 100.)\n",
    "#         period = \n",
    "#         T = 1.0 / fx[jmax]\n",
    "#         new_time = np.mod(time, 2 * T) / (2 * T)\n",
    "\n",
    "#         return T, new_time, prob, period\n",
    "\n",
    "#     def _compute_cs(self, folded_data, N):\n",
    "#         sigma = np.std(folded_data)\n",
    "#         m = np.mean(folded_data)\n",
    "#         s = np.cumsum(folded_data - m) * 1.0 / (N * sigma)\n",
    "#         R = np.max(s) - np.min(s)\n",
    "#         return R\n",
    "\n",
    "#     def _compute_eta(self, folded_data, N):\n",
    "#         sigma2 = np.var(folded_data)\n",
    "#         Psi_eta = (1.0 / ((N - 1) * sigma2) *\n",
    "#                    np.sum(np.power(folded_data[1:] - folded_data[:-1], 2)))\n",
    "#         return Psi_eta\n",
    "\n",
    "#     def fit(self, magnitude, time, error, ofac, nyquist_factor):\n",
    "#         T, new_time, prob, period = self._compute_ls()\n",
    "#             magnitude, time, ofac, nyquist_factor)\n",
    "\n",
    "#         folded_data = magnitude[np.argsort(new_time)]\n",
    "#         N = len(folded_data)\n",
    "\n",
    "#         R = self._compute_cs(folded_data, N)\n",
    "#         Psi_eta = self._compute_eta(folded_data, N)\n",
    "\n",
    "#         return {\"PeriodLS\": T, \"Period_fit\": prob,\n",
    "#                 \"Psi_CS\": R, \"Psi_eta\": Psi_eta}\n",
    "\n",
    "\n",
    "# def adaptor(time, magnitude, nyquist_factor):\n",
    "#     model = LombScargleFast()\n",
    "#     model.fit(time, magnitude)\n",
    "#     periods, power = model.fit(\n",
    "#         time, magnitude).periodogram_auto(nyquist_factor=100)\n",
    "    \n",
    "#     period = periods[np.argmax(power)]\n",
    "#     T = 1.0 / period\n",
    "#     new_time = np.mod(time, 2 * T) / (2 * T)\n",
    "    \n",
    "#     # prob estimation\n",
    "    \n",
    "   \n",
    "#   \"\"\" returns the peak false alarm probabilities\n",
    "#   Hence the lower is the probability and the more significant is the peak\n",
    "#   \"\"\"\n",
    "#   expy = exp(-wk2)\n",
    "#   effm = 2.0*(nout)/ofac\n",
    "#   sig = effm*expy\n",
    "#   ind = (sig > 0.01).nonzero()\n",
    "#   sig[ind] = 1.0-(1.0-expy[ind])**effm\n",
    "#   return sig\n",
    "    \n",
    "    \n",
    "    \n",
    "\n",
    "#     return T, new_time, prob, period\n",
    "    \n",
    "    "
   ]
  },
  {
   "cell_type": "code",
   "execution_count": 12,
   "metadata": {
    "collapsed": true
   },
   "outputs": [],
   "source": [
    "# periods, power = adaptor(time, magnitude, 100)"
   ]
  },
  {
   "cell_type": "code",
   "execution_count": 13,
   "metadata": {},
   "outputs": [
    {
     "name": "stdout",
     "output_type": "stream",
     "text": [
      "CPU times: user 35.2 ms, sys: 0 ns, total: 35.2 ms\n",
      "Wall time: 42.5 ms\n"
     ]
    }
   ],
   "source": [
    "model = LombScargleFast()\n",
    "%time periods, power = model.fit(time, magnitude).periodogram_auto()"
   ]
  },
  {
   "cell_type": "code",
   "execution_count": 15,
   "metadata": {},
   "outputs": [
    {
     "name": "stdout",
     "output_type": "stream",
     "text": [
      "Finding optimal frequency:\n",
      " - Estimated peak width = 0.00231\n",
      " - Using 5 steps per peak; omega_step = 0.000462\n",
      " - User-specified period range:  0.1 to 2.7e+03\n",
      " - Computing periods at 136139 steps\n",
      "Zooming-in on 5 candidate peaks:\n",
      " - Computing periods at 1000 steps\n",
      "0.936962851802\n"
     ]
    },
    {
     "data": {
      "image/png": "[encoded data removed]",
      "text/plain": [
       "<matplotlib.figure.Figure at 0x7f2869e64b90>"
      ]
     },
     "metadata": {},
     "output_type": "display_data"
    }
   ],
   "source": [
    "model = LombScargleFast()\n",
    "periods, power = model.fit(time, magnitude).periodogram_auto()\n",
    "model.optimizer.period_range = (0.001,  np.max(time) - np.min(time))\n",
    "gatspy_period = model.best_period\n",
    "plt.plot(periods, power)\n",
    "plt.axvline(gatspy_period, color=\"r\")\n",
    "# plt.xlim(0, 20)\n",
    "print gatspy_period"
   ]
  },
  {
   "cell_type": "code",
   "execution_count": 22,
   "metadata": {},
   "outputs": [
    {
     "data": {
      "text/plain": [
       "0.99084708078602468"
      ]
     },
     "execution_count": 22,
     "metadata": {},
     "output_type": "execute_result"
    }
   ],
   "source": [
    "periods[np.argmax(power)] / 15."
   ]
  },
  {
   "cell_type": "code",
   "execution_count": 57,
   "metadata": {},
   "outputs": [
    {
     "data": {
      "text/plain": [
       "54618.256183999998"
      ]
     },
     "execution_count": 57,
     "metadata": {},
     "output_type": "execute_result"
    }
   ],
   "source": [
    "np.max(time)"
   ]
  },
  {
   "cell_type": "code",
   "execution_count": null,
   "metadata": {
    "collapsed": true
   },
   "outputs": [],
   "source": []
  }
 ],
 "metadata": {
  "kernelspec": {
   "display_name": "Python 2",
   "language": "python",
   "name": "python2"
  },
  "language_info": {
   "codemirror_mode": {
    "name": "ipython",
    "version": 2
   },
   "file_extension": ".py",
   "mimetype": "text/x-python",
   "name": "python",
   "nbconvert_exporter": "python",
   "pygments_lexer": "ipython2",
   "version": "2.7.6"
  }
 },
 "nbformat": 4,
 "nbformat_minor": 2
}
