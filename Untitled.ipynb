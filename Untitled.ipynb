{
 "cells": [
  {
   "cell_type": "code",
   "execution_count": 1,
   "metadata": {},
   "outputs": [
    {
     "name": "stderr",
     "output_type": "stream",
     "text": [
      "/home/juan/proyectos/carpyncho_FATS/local/lib/python2.7/site-packages/statsmodels/compat/pandas.py:56: FutureWarning: The pandas.core.datetools module is deprecated and will be removed in a future version. Please use the pandas.tseries module instead.\n",
      "  from pandas.core import datetools\n"
     ]
    }
   ],
   "source": [
    "import os\n",
    "import numpy as np\n",
    "\n",
    "import feets\n",
    "from feets.libs import ls_fap, lomb\n",
    "\n",
    "%matplotlib inline\n",
    "import matplotlib.pyplot as plt"
   ]
  },
  {
   "cell_type": "code",
   "execution_count": 2,
   "metadata": {},
   "outputs": [
    {
     "data": {
      "text/plain": [
       "(array([-6.081, -6.041, -6.046, ..., -6.009, -5.985, -5.997]),\n",
       " array([ 48823.477419,  48823.487014,  48823.496759, ...,  51531.401331,\n",
       "         51541.344537,  51546.325197]))"
      ]
     },
     "execution_count": 2,
     "metadata": {},
     "output_type": "execute_result"
    }
   ],
   "source": [
    "fs = feets.FeatureSpace()\n",
    "\n",
    "data_path = os.path.join(os.path.abspath(os.path.dirname(feets.tests.__file__)), \"data\")\n",
    "lc_path = os.path.join(data_path, \"lc_1.3444.614.B_R.npz\")\n",
    "\n",
    "# recreate the lightcurve\n",
    "with np.load(lc_path) as npz:\n",
    "    magnitude = npz['mag']\n",
    "    time = npz['time']\n",
    "    \n",
    "magnitude, time"
   ]
  },
  {
   "cell_type": "code",
   "execution_count": 3,
   "metadata": {
    "collapsed": true
   },
   "outputs": [],
   "source": [
    "# from astroML.datasets import fetch_LINEAR_sample\n",
    "# LINEAR_data = fetch_LINEAR_sample()\n",
    "# star_id = 10040133\n",
    "# time, magnitude, dmag = LINEAR_data.get_light_curve(star_id).T"
   ]
  },
  {
   "cell_type": "code",
   "execution_count": 4,
   "metadata": {
    "collapsed": true
   },
   "outputs": [],
   "source": [
    "def plot_star(time, magnitude, period):\n",
    "    t, mag= time, magnitude\n",
    "    dmag = np.zeros(time.shape)\n",
    "    \n",
    "    # Compute phases of the obsevations\n",
    "    phase = (t / period) % 1\n",
    "\n",
    "    # Compute best-fit RR Lyrae template\n",
    "    from gatspy.periodic import RRLyraeTemplateModeler\n",
    "    model = RRLyraeTemplateModeler('r').fit(t, mag, dmag)\n",
    "    phase_fit = np.linspace(0, 1, 1000)\n",
    "    mag_fit = model.predict(period * phase_fit, period=period)\n",
    "\n",
    "    # Plot the phased data & model\n",
    "    fig, ax = plt.subplots()\n",
    "    ax.errorbar(phase, mag, dmag, fmt='.k', ecolor='gray', alpha=0.5)\n",
    "    ax.plot(phase_fit, mag_fit, '-k')\n",
    "    ax.set(xlabel='Phase', ylabel='magitude')\n",
    "    ax.invert_yaxis();"
   ]
  },
  {
   "cell_type": "markdown",
   "metadata": {},
   "source": [
    "## FATS LS"
   ]
  },
  {
   "cell_type": "code",
   "execution_count": 5,
   "metadata": {},
   "outputs": [],
   "source": [
    "from feets.extractors.ext_lomb_scargle_orig import LombScargle as FATSLombScargle"
   ]
  },
  {
   "cell_type": "code",
   "execution_count": 6,
   "metadata": {},
   "outputs": [
    {
     "data": {
      "text/plain": [
       "LombScargle(ofac=6.0)"
      ]
     },
     "execution_count": 6,
     "metadata": {},
     "output_type": "execute_result"
    }
   ],
   "source": [
    "lscargle = FATSLombScargle(fs)\n",
    "lscargle"
   ]
  },
  {
   "cell_type": "code",
   "execution_count": 7,
   "metadata": {},
   "outputs": [
    {
     "name": "stdout",
     "output_type": "stream",
     "text": [
      "CPU times: user 1.59 s, sys: 60 ms, total: 1.65 s\n",
      "Wall time: 1.65 s\n"
     ]
    },
    {
     "data": {
      "text/plain": [
       "{u'PeriodLS': 0.93697445905023935,\n",
       " u'Period_fit': 3.1076457440343504e-113,\n",
       " u'Psi_CS': 0.19179114069585729,\n",
       " u'Psi_eta': 0.58910268294132195}"
      ]
     },
     "execution_count": 7,
     "metadata": {},
     "output_type": "execute_result"
    }
   ],
   "source": [
    "# %%timeit\n",
    "%time lscargle.fit(magnitude, time, 6.)"
   ]
  },
  {
   "cell_type": "code",
   "execution_count": 8,
   "metadata": {},
   "outputs": [
    {
     "name": "stdout",
     "output_type": "stream",
     "text": [
      "CPU times: user 1.3 s, sys: 64 ms, total: 1.36 s\n",
      "Wall time: 1.35 s\n",
      "0.93697445905\n"
     ]
    },
    {
     "data": {
      "image/png": "[encoded data removed]",
      "text/plain": [
       "<matplotlib.figure.Figure at 0x7f1355223510>"
      ]
     },
     "metadata": {},
     "output_type": "display_data"
    }
   ],
   "source": [
    "%time fx, fy, nout, jmax, prob = lomb.fasper(time, magnitude, 6., 100.)\n",
    "fats_period = 1/fx[np.argmax(fy)]\n",
    "plt.plot(1/fx, fy)\n",
    "plt.axvline(fats_period, color=\"r\")\n",
    "print fats_period"
   ]
  },
  {
   "cell_type": "markdown",
   "metadata": {},
   "source": [
    "## Astropy"
   ]
  },
  {
   "cell_type": "code",
   "execution_count": 9,
   "metadata": {
    "collapsed": true
   },
   "outputs": [],
   "source": [
    "from feets.extractors.ext_lomb_scargle import LombScargle as FeetsLombScargle"
   ]
  },
  {
   "cell_type": "code",
   "execution_count": 10,
   "metadata": {},
   "outputs": [
    {
     "data": {
      "text/plain": [
       "LombScargle(fasper_kwds=None)"
      ]
     },
     "execution_count": 10,
     "metadata": {},
     "output_type": "execute_result"
    }
   ],
   "source": [
    "lscargle = FeetsLombScargle(fs)\n",
    "lscargle"
   ]
  },
  {
   "cell_type": "code",
   "execution_count": 13,
   "metadata": {},
   "outputs": [
    {
     "name": "stdout",
     "output_type": "stream",
     "text": [
      "CPU times: user 612 ms, sys: 32 ms, total: 644 ms\n",
      "Wall time: 642 ms\n"
     ]
    },
    {
     "data": {
      "text/plain": [
       "{u'PeriodLS': 0.93694759085825552,\n",
       " u'Period_fit': 1,\n",
       " u'Psi_CS': 0.19014757424308459,\n",
       " u'Psi_eta': 0.66944304684644684}"
      ]
     },
     "execution_count": 13,
     "metadata": {},
     "output_type": "execute_result"
    }
   ],
   "source": [
    "fasper_kwds = {\"autopower_kwds\": {\"samples_per_peak\": 6., \"nyquist_factor\": 100}}\n",
    "%time lscargle.fit(magnitude, time, fasper_kwds=fasper_kwds)"
   ]
  }
 ],
 "metadata": {
  "kernelspec": {
   "display_name": "Python 2",
   "language": "python",
   "name": "python2"
  },
  "language_info": {
   "codemirror_mode": {
    "name": "ipython",
    "version": 2
   },
   "file_extension": ".py",
   "mimetype": "text/x-python",
   "name": "python",
   "nbconvert_exporter": "python",
   "pygments_lexer": "ipython2",
   "version": "2.7.12"
  }
 },
 "nbformat": 4,
 "nbformat_minor": 2
}
